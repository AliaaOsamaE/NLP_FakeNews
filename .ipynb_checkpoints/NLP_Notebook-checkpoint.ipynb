{
 "cells": [
  {
   "cell_type": "code",
   "execution_count": 220,
   "id": "2ebbae7b-fdc0-455c-94e1-be9565e06684",
   "metadata": {},
   "outputs": [
    {
     "name": "stdout",
     "output_type": "stream",
     "text": [
      "Collecting nltk==3.5\n",
      "  Using cached nltk-3.5-py3-none-any.whl\n",
      "Requirement already satisfied: click in c:\\users\\aliaa\\anaconda3\\envs\\nlp_env\\lib\\site-packages (from nltk==3.5) (8.1.7)\n",
      "Requirement already satisfied: joblib in c:\\users\\aliaa\\anaconda3\\envs\\nlp_env\\lib\\site-packages (from nltk==3.5) (1.4.0)\n",
      "Requirement already satisfied: regex in c:\\users\\aliaa\\anaconda3\\envs\\nlp_env\\lib\\site-packages (from nltk==3.5) (2024.4.16)\n",
      "Requirement already satisfied: tqdm in c:\\users\\aliaa\\anaconda3\\envs\\nlp_env\\lib\\site-packages (from nltk==3.5) (4.66.2)\n",
      "Requirement already satisfied: colorama in c:\\users\\aliaa\\anaconda3\\envs\\nlp_env\\lib\\site-packages (from click->nltk==3.5) (0.4.6)\n",
      "Installing collected packages: nltk\n",
      "  Attempting uninstall: nltk\n",
      "    Found existing installation: nltk 3.8.1\n",
      "    Uninstalling nltk-3.8.1:\n",
      "      Successfully uninstalled nltk-3.8.1\n",
      "Successfully installed nltk-3.5\n"
     ]
    },
    {
     "name": "stderr",
     "output_type": "stream",
     "text": [
      "ERROR: pip's dependency resolver does not currently take into account all the packages that are installed. This behaviour is the source of the following dependency conflicts.\n",
      "textblob 0.18.0.post0 requires nltk>=3.8, but you have nltk 3.5 which is incompatible.\n"
     ]
    }
   ],
   "source": [
    "!pip install nltk==3.5"
   ]
  },
  {
   "cell_type": "code",
   "execution_count": 221,
   "id": "05bd80ef-5474-4971-80e9-d82a7aa93ecb",
   "metadata": {},
   "outputs": [
    {
     "name": "stdout",
     "output_type": "stream",
     "text": [
      "Requirement already satisfied: matplotlib in c:\\users\\aliaa\\anaconda3\\envs\\nlp_env\\lib\\site-packages (3.8.4)\n",
      "Requirement already satisfied: contourpy>=1.0.1 in c:\\users\\aliaa\\anaconda3\\envs\\nlp_env\\lib\\site-packages (from matplotlib) (1.2.1)\n",
      "Requirement already satisfied: cycler>=0.10 in c:\\users\\aliaa\\anaconda3\\envs\\nlp_env\\lib\\site-packages (from matplotlib) (0.12.1)\n",
      "Requirement already satisfied: fonttools>=4.22.0 in c:\\users\\aliaa\\anaconda3\\envs\\nlp_env\\lib\\site-packages (from matplotlib) (4.51.0)\n",
      "Requirement already satisfied: kiwisolver>=1.3.1 in c:\\users\\aliaa\\anaconda3\\envs\\nlp_env\\lib\\site-packages (from matplotlib) (1.4.5)\n",
      "Requirement already satisfied: numpy>=1.21 in c:\\users\\aliaa\\anaconda3\\envs\\nlp_env\\lib\\site-packages (from matplotlib) (1.26.4)\n",
      "Requirement already satisfied: packaging>=20.0 in c:\\users\\aliaa\\anaconda3\\envs\\nlp_env\\lib\\site-packages (from matplotlib) (24.0)\n",
      "Requirement already satisfied: pillow>=8 in c:\\users\\aliaa\\anaconda3\\envs\\nlp_env\\lib\\site-packages (from matplotlib) (10.3.0)\n",
      "Requirement already satisfied: pyparsing>=2.3.1 in c:\\users\\aliaa\\anaconda3\\envs\\nlp_env\\lib\\site-packages (from matplotlib) (3.1.2)\n",
      "Requirement already satisfied: python-dateutil>=2.7 in c:\\users\\aliaa\\anaconda3\\envs\\nlp_env\\lib\\site-packages (from matplotlib) (2.9.0.post0)\n",
      "Requirement already satisfied: six>=1.5 in c:\\users\\aliaa\\anaconda3\\envs\\nlp_env\\lib\\site-packages (from python-dateutil>=2.7->matplotlib) (1.16.0)\n"
     ]
    }
   ],
   "source": [
    "!pip install matplotlib "
   ]
  },
  {
   "cell_type": "code",
   "execution_count": 222,
   "id": "555ae8ee-be7e-4383-8ed9-d7314625adc7",
   "metadata": {},
   "outputs": [
    {
     "name": "stdout",
     "output_type": "stream",
     "text": [
      "Requirement already satisfied: scikit-learn in c:\\users\\aliaa\\anaconda3\\envs\\nlp_env\\lib\\site-packages (1.4.2)\n",
      "Requirement already satisfied: numpy>=1.19.5 in c:\\users\\aliaa\\anaconda3\\envs\\nlp_env\\lib\\site-packages (from scikit-learn) (1.26.4)\n",
      "Requirement already satisfied: scipy>=1.6.0 in c:\\users\\aliaa\\anaconda3\\envs\\nlp_env\\lib\\site-packages (from scikit-learn) (1.13.0)\n",
      "Requirement already satisfied: joblib>=1.2.0 in c:\\users\\aliaa\\anaconda3\\envs\\nlp_env\\lib\\site-packages (from scikit-learn) (1.4.0)\n",
      "Requirement already satisfied: threadpoolctl>=2.0.0 in c:\\users\\aliaa\\anaconda3\\envs\\nlp_env\\lib\\site-packages (from scikit-learn) (3.4.0)\n"
     ]
    }
   ],
   "source": [
    "!pip install scikit-learn"
   ]
  },
  {
   "cell_type": "code",
   "execution_count": 223,
   "id": "880568c2-4ad0-42ec-a34c-6150a1d0bc2c",
   "metadata": {},
   "outputs": [
    {
     "name": "stdout",
     "output_type": "stream",
     "text": [
      "Requirement already satisfied: textblob in c:\\users\\aliaa\\anaconda3\\envs\\nlp_env\\lib\\site-packages (0.18.0.post0)\n",
      "Collecting nltk>=3.8 (from textblob)\n",
      "  Using cached nltk-3.8.1-py3-none-any.whl.metadata (2.8 kB)\n",
      "Requirement already satisfied: click in c:\\users\\aliaa\\anaconda3\\envs\\nlp_env\\lib\\site-packages (from nltk>=3.8->textblob) (8.1.7)\n",
      "Requirement already satisfied: joblib in c:\\users\\aliaa\\anaconda3\\envs\\nlp_env\\lib\\site-packages (from nltk>=3.8->textblob) (1.4.0)\n",
      "Requirement already satisfied: regex>=2021.8.3 in c:\\users\\aliaa\\anaconda3\\envs\\nlp_env\\lib\\site-packages (from nltk>=3.8->textblob) (2024.4.16)\n",
      "Requirement already satisfied: tqdm in c:\\users\\aliaa\\anaconda3\\envs\\nlp_env\\lib\\site-packages (from nltk>=3.8->textblob) (4.66.2)\n",
      "Requirement already satisfied: colorama in c:\\users\\aliaa\\anaconda3\\envs\\nlp_env\\lib\\site-packages (from click->nltk>=3.8->textblob) (0.4.6)\n",
      "Using cached nltk-3.8.1-py3-none-any.whl (1.5 MB)\n",
      "Installing collected packages: nltk\n",
      "  Attempting uninstall: nltk\n",
      "    Found existing installation: nltk 3.5\n",
      "    Uninstalling nltk-3.5:\n",
      "      Successfully uninstalled nltk-3.5\n",
      "Successfully installed nltk-3.8.1\n"
     ]
    }
   ],
   "source": [
    "!pip install textblob"
   ]
  },
  {
   "cell_type": "code",
   "execution_count": 224,
   "id": "e06a8391-5f72-47d7-99e4-191a9a2fc3e6",
   "metadata": {},
   "outputs": [
    {
     "name": "stderr",
     "output_type": "stream",
     "text": [
      "[nltk_data] Downloading package stopwords to\n",
      "[nltk_data]     C:\\Users\\aliaa\\AppData\\Roaming\\nltk_data...\n",
      "[nltk_data]   Package stopwords is already up-to-date!\n",
      "[nltk_data] Downloading package wordnet to\n",
      "[nltk_data]     C:\\Users\\aliaa\\AppData\\Roaming\\nltk_data...\n",
      "[nltk_data]   Package wordnet is already up-to-date!\n",
      "[nltk_data] Downloading package punkt to\n",
      "[nltk_data]     C:\\Users\\aliaa\\AppData\\Roaming\\nltk_data...\n",
      "[nltk_data]   Package punkt is already up-to-date!\n"
     ]
    },
    {
     "data": {
      "text/plain": [
       "True"
      ]
     },
     "execution_count": 224,
     "metadata": {},
     "output_type": "execute_result"
    }
   ],
   "source": [
    "import nltk\n",
    "import re\n",
    "from nltk.tokenize import word_tokenize\n",
    "from nltk.tokenize import sent_tokenize\n",
    "nltk.download('stopwords')\n",
    "nltk.download('wordnet')\n",
    "nltk.download('punkt')"
   ]
  },
  {
   "cell_type": "code",
   "execution_count": 225,
   "id": "ac4bd52c-7cc6-402e-bce0-049243c6d925",
   "metadata": {},
   "outputs": [
    {
     "name": "stdout",
     "output_type": "stream",
     "text": [
      "Requirement already satisfied: pandas in c:\\users\\aliaa\\anaconda3\\envs\\nlp_env\\lib\\site-packages (2.2.2)\n",
      "Requirement already satisfied: numpy>=1.23.2 in c:\\users\\aliaa\\anaconda3\\envs\\nlp_env\\lib\\site-packages (from pandas) (1.26.4)\n",
      "Requirement already satisfied: python-dateutil>=2.8.2 in c:\\users\\aliaa\\anaconda3\\envs\\nlp_env\\lib\\site-packages (from pandas) (2.9.0.post0)\n",
      "Requirement already satisfied: pytz>=2020.1 in c:\\users\\aliaa\\anaconda3\\envs\\nlp_env\\lib\\site-packages (from pandas) (2024.1)\n",
      "Requirement already satisfied: tzdata>=2022.7 in c:\\users\\aliaa\\anaconda3\\envs\\nlp_env\\lib\\site-packages (from pandas) (2024.1)\n",
      "Requirement already satisfied: six>=1.5 in c:\\users\\aliaa\\anaconda3\\envs\\nlp_env\\lib\\site-packages (from python-dateutil>=2.8.2->pandas) (1.16.0)\n"
     ]
    }
   ],
   "source": [
    "!pip install pandas "
   ]
  },
  {
   "cell_type": "code",
   "execution_count": 226,
   "id": "0c6c9fce-c67a-47a1-87d1-dce61d085819",
   "metadata": {},
   "outputs": [],
   "source": [
    "#import\n",
    "import numpy as np\n",
    "import pandas as pd\n",
    "import matplotlib.pyplot as plt\n",
    "import string\n",
    "from nltk.stem import SnowballStemmer\n",
    "from nltk.corpus import stopwords\n",
    "from sklearn.feature_extraction.text import TfidfVectorizer\n",
    "from sklearn.model_selection import train_test_split\n",
    "import os\n",
    "from textblob import TextBlob\n",
    "from nltk.stem import PorterStemmer\n",
    "from textblob import Word\n",
    "from sklearn.feature_extraction.text import CountVectorizer,TfidfVectorizer\n",
    "import sklearn.feature_extraction.text as text\n",
    "from sklearn import model_selection, preprocessing, linear_model, naive_bayes, metrics, svm\n",
    "import string"
   ]
  },
  {
   "cell_type": "code",
   "execution_count": 227,
   "id": "6ebb4bec-318d-42f6-93be-40b069f5dc37",
   "metadata": {},
   "outputs": [],
   "source": [
    "News_Data = pd.read_csv(\"news.csv\")\n",
    "#Encoding Latin1"
   ]
  },
  {
   "cell_type": "code",
   "execution_count": 228,
   "id": "7c6a0539-b1a6-457d-9f79-894e2e8f3e37",
   "metadata": {},
   "outputs": [],
   "source": [
    "def remove_punctuation(text):\n",
    "    # Tokenize the text into words\n",
    "    tokens = word_tokenize(text)\n",
    "    \n",
    "    # Filter out tokens that are not punctuation\n",
    "    no_punctuation = [word for word in tokens if word not in string.punctuation]\n",
    "    \n",
    "    # Join the remaining tokens back into a string\n",
    "    clean_text = ' '.join(no_punctuation)\n",
    "    \n",
    "    return clean_text"
   ]
  },
  {
   "cell_type": "code",
   "execution_count": 229,
   "id": "cd195845-41c2-48d3-8192-19507833e709",
   "metadata": {},
   "outputs": [],
   "source": [
    "# def tokenize_only(text):\n",
    "#     tokens = word_tokenize(text)\n",
    "#     stop_words = set(stopwords.words('english'))\n",
    "#     filtered_tokens = [word for word in tokens if word.lower() not in stop_words]\n",
    "#     return filtered_tokens\n",
    "\n",
    "def tokenize_only(text):\n",
    "    # Sentence tokenize the text\n",
    "    sentences = sent_tokenize(text)\n",
    "    return sentences"
   ]
  },
  {
   "cell_type": "code",
   "execution_count": 230,
   "id": "81995c4c-2758-4f8d-ba2a-8a840572cd88",
   "metadata": {},
   "outputs": [],
   "source": [
    "# def preprocess(sentences):\n",
    "#     processed_sentences = []\n",
    "#     for sentence in sentences:\n",
    "#         # Convert sentence to lowercase\n",
    "#         sentence = sentence.lower()\n",
    "        \n",
    "#         # Remove stopwords\n",
    "#         stop_words = set(stopwords.words('english'))\n",
    "#         words = sentence.split()\n",
    "#         filtered_words = [word for word in words if word not in stop_words]\n",
    "#         sentence = ' '.join(filtered_words)\n",
    "        \n",
    "#         # Apply stemming\n",
    "#         st = PorterStemmer()\n",
    "#         stemmed_words = [st.stem(word) for word in sentence.split()]\n",
    "#         sentence = ' '.join(stemmed_words)\n",
    "        \n",
    "#         processed_sentences.append(sentence)\n",
    "    \n",
    "#     return processed_sentences"
   ]
  },
  {
   "cell_type": "code",
   "execution_count": 231,
   "id": "a83d9e84-0c69-4bcd-86dd-3f82a36a515f",
   "metadata": {},
   "outputs": [],
   "source": [
    "\n",
    "#pre processing steps like lower case, stemming and lemmatization\n",
    "\n",
    "\n",
    "# News_Data['title'] = News_Data['title'].apply(lambda x: \" \".join(x.lower() for x in x.split()))\n",
    "# stop = stopwords.words('english')\n",
    "# News_Data['title'] = News_Data['title'].apply(lambda x: \" \".join(x for x in x.split() if x not in stop))\n",
    "# st = PorterStemmer()\n",
    "# # News_Data['title'] = News_Data['title'].apply(lambda x: \" \".join([st.stem(word) for word in x.split()]))\n",
    "# News_Data['title'] =News_Data['title'].apply(lambda x: \" \".join([Word(word).lemmatize() for word in x.split()]))\n",
    "\n",
    "News_Data['text'] = News_Data['text'].apply(tokenize_only)\n",
    "#News_Data['text'] =News_Data['text'].apply(lambda x: \" \".join([Word(word).lemmatize() for word in x.split()]))\n"
   ]
  },
  {
   "cell_type": "code",
   "execution_count": 232,
   "id": "45be3447-ab05-41bc-a1cc-69d5c328cdd8",
   "metadata": {},
   "outputs": [
    {
     "name": "stdout",
     "output_type": "stream",
     "text": [
      "0       [Daniel Greenfield, a Shillman Journalism Fell...\n",
      "1       [Google Pinterest Digg Linkedin Reddit Stumble...\n",
      "2       [U.S. Secretary of State John F. Kerry said Mo...\n",
      "3       [— Kaydee King (@KaydeeKing) November 9, 2016 ...\n",
      "4       [It's primary day in New York and front-runner...\n",
      "                              ...                        \n",
      "6330    [The State Department told the Republican Nati...\n",
      "6331    [The ‘P’ in PBS Should Stand for ‘Plutocratic’...\n",
      "6332    [ Anti-Trump Protesters Are Tools of the Oliga...\n",
      "6333    [ADDIS ABABA, Ethiopia —President Obama conven...\n",
      "6334    [Jeb Bush Is Suddenly Attacking Trump., Here's...\n",
      "Name: text, Length: 6335, dtype: object\n"
     ]
    }
   ],
   "source": [
    "print(News_Data['text'])"
   ]
  },
  {
   "cell_type": "code",
   "execution_count": 233,
   "id": "acbff353-8762-4253-b028-1c9e18ab2377",
   "metadata": {},
   "outputs": [],
   "source": [
    "# News_Data['text'] = News_Data['text'].apply(preprocess)"
   ]
  },
  {
   "cell_type": "code",
   "execution_count": 244,
   "id": "0c3beb94-4bbf-40d1-a023-dfefbafe1b5e",
   "metadata": {},
   "outputs": [
    {
     "name": "stdout",
     "output_type": "stream",
     "text": [
      "['CEDAR RAPIDS, Iowa — “I had one of the most wonderful rallies of my entire career right here in 1992,” Bill Clinton said by way of opening to the crowd of more than 1,100 on Saturday night.', 'Two days before the Iowa caucuses, Cedar Rapids tried to deliver that same old feeling to his wife, Hillary Clinton.', 'In the crowd,\\xa0one woman held a sign that said “227 years of men.', 'It’s HER turn!\"', 'Some carried signs and books.', 'Others had traveled from as far as Missouri.', 'They had waited hours, even after the fire marshal told them there was no more room inside the high school gymnasium.', 'The restive crowd chanted slogans and buzzed with anticipation until finally Bill, Hillary and Chelsea Clinton all appeared on stage hand-in-hand, an hour behind schedule.', 'As they roared, Hillary Clinton beamed.', 'It has been a long slog in Iowa for the Clinton campaign, which has struggled mightily to shake the label that its supporters can’t muster the enthusiasm of its rival’s backers.', 'As the caucuses near, and with the help of a former president, the energy level\\xa0at her events are notably dialing up.', '\"He\\'s a charismatic speaker,\" said Cigi Ross, 31.', '\"In general, I\\'d say he\\'s a bigger draw for people.\"', \"Monday night will put the campaign's months of their work to the test.\", 'Can the campaign’s organization bring out their supporters?', 'Can the candidate energize voters?', 'Clinton, who seemed to draw on the higher-than-usual energy, stood at the center of it all and delivered a confident closing statement.', '“What we need is a plan, and a commitment,” Clinton said at the top of her voice.', '“And me, yes, thank you,” Clinton finished.', 'Eight years later, Clinton is in Iowa once again facing what could be a nail-biting conclusion of a hard-fought campaign.', 'Clinton acknowledges that it isn’t just her campaign that has changed since her devastating loss here in her last run, she too has changed — and improved, she told CNN on Saturday.', '\"I think I am a different, and perhaps a better, candidate, so I hope that also shows,\" Clinton said in an interview with the network that morning.', 'Days ago, Iowa seemed to be slipping from her grasp, but campaign aides are feeling more confident now.', 'A slew of positive news, endorsements, and the latest poll from the Des Moines Register and Bloomberg News indicate the bleeding has at least slowed.', 'That poll -- considered the gold standard in Iowa -- gave Clinton a slim lead over her rival Vermont Sen. Bernie Sanders.', 'If Democrats are wary of political dynasties, they didn’t show it.', 'Spotting someone in the audience carrying Chelsea Clinton\\'s book, her father remarked: \"Thank you, young woman, for holding up her book.\"', \"Bill Clinton, who has spent days crisscrossing the state on his wife's behalf, has settled easily into this role as booster-in-chief.\", 'He lays off the policy, leaving that to his wife.', 'He focuses instead on what he knows \"about the job.\"', '“There are certain, almost intangible qualities that determine whether a president succeeds or not,” Clinton said, his voice raspy, even and low.', '\"You need a sticker.', 'A sticker: someone who won’t quit on you.”\\n\\n\"She’s the best at that I’ve ever known,” he added.']\n"
     ]
    }
   ],
   "source": [
    "print(News_Data['text'][10])"
   ]
  },
  {
   "cell_type": "code",
   "execution_count": 245,
   "id": "af40bebd-6a4b-4884-8dce-275a99424a1b",
   "metadata": {},
   "outputs": [],
   "source": [
    "def remove_stopwords(sentences):\n",
    "    stop_words = set(stopwords.words('english'))\n",
    "    processed_sentences = []\n",
    "    for sentence in sentences:\n",
    "        word_tokens = word_tokenize(sentence)\n",
    "        filtered_sentence = [word for word in word_tokens if word.lower() not in stop_words]\n",
    "        processed_sentences.append(' '.join(filtered_sentence))\n",
    "    return processed_sentences"
   ]
  },
  {
   "cell_type": "code",
   "execution_count": 248,
   "id": "0813efd9-0b6d-4bb3-a1ee-b651e21b50aa",
   "metadata": {},
   "outputs": [],
   "source": [
    "processed_lists = [remove_stopwords(sentences) for sentences in News_Data['text']]"
   ]
  },
  {
   "cell_type": "code",
   "execution_count": 249,
   "id": "7058c39f-deee-421c-8c4e-50b206a509e1",
   "metadata": {},
   "outputs": [
    {
     "name": "stdout",
     "output_type": "stream",
     "text": [
      "['CEDAR RAPIDS, Iowa — “I had one of the most wonderful rallies of my entire career right here in 1992,” Bill Clinton said by way of opening to the crowd of more than 1,100 on Saturday night.', 'Two days before the Iowa caucuses, Cedar Rapids tried to deliver that same old feeling to his wife, Hillary Clinton.', 'In the crowd,\\xa0one woman held a sign that said “227 years of men.', 'It’s HER turn!\"', 'Some carried signs and books.', 'Others had traveled from as far as Missouri.', 'They had waited hours, even after the fire marshal told them there was no more room inside the high school gymnasium.', 'The restive crowd chanted slogans and buzzed with anticipation until finally Bill, Hillary and Chelsea Clinton all appeared on stage hand-in-hand, an hour behind schedule.', 'As they roared, Hillary Clinton beamed.', 'It has been a long slog in Iowa for the Clinton campaign, which has struggled mightily to shake the label that its supporters can’t muster the enthusiasm of its rival’s backers.', 'As the caucuses near, and with the help of a former president, the energy level\\xa0at her events are notably dialing up.', '\"He\\'s a charismatic speaker,\" said Cigi Ross, 31.', '\"In general, I\\'d say he\\'s a bigger draw for people.\"', \"Monday night will put the campaign's months of their work to the test.\", 'Can the campaign’s organization bring out their supporters?', 'Can the candidate energize voters?', 'Clinton, who seemed to draw on the higher-than-usual energy, stood at the center of it all and delivered a confident closing statement.', '“What we need is a plan, and a commitment,” Clinton said at the top of her voice.', '“And me, yes, thank you,” Clinton finished.', 'Eight years later, Clinton is in Iowa once again facing what could be a nail-biting conclusion of a hard-fought campaign.', 'Clinton acknowledges that it isn’t just her campaign that has changed since her devastating loss here in her last run, she too has changed — and improved, she told CNN on Saturday.', '\"I think I am a different, and perhaps a better, candidate, so I hope that also shows,\" Clinton said in an interview with the network that morning.', 'Days ago, Iowa seemed to be slipping from her grasp, but campaign aides are feeling more confident now.', 'A slew of positive news, endorsements, and the latest poll from the Des Moines Register and Bloomberg News indicate the bleeding has at least slowed.', 'That poll -- considered the gold standard in Iowa -- gave Clinton a slim lead over her rival Vermont Sen. Bernie Sanders.', 'If Democrats are wary of political dynasties, they didn’t show it.', 'Spotting someone in the audience carrying Chelsea Clinton\\'s book, her father remarked: \"Thank you, young woman, for holding up her book.\"', \"Bill Clinton, who has spent days crisscrossing the state on his wife's behalf, has settled easily into this role as booster-in-chief.\", 'He lays off the policy, leaving that to his wife.', 'He focuses instead on what he knows \"about the job.\"', '“There are certain, almost intangible qualities that determine whether a president succeeds or not,” Clinton said, his voice raspy, even and low.', '\"You need a sticker.', 'A sticker: someone who won’t quit on you.”\\n\\n\"She’s the best at that I’ve ever known,” he added.']\n"
     ]
    }
   ],
   "source": [
    "print(News_Data['text'][10])"
   ]
  },
  {
   "cell_type": "code",
   "execution_count": 234,
   "id": "6c0761f7-6715-4e8f-8705-f754f5322065",
   "metadata": {},
   "outputs": [],
   "source": [
    "# News_Data['text'] = News_Data['text'].apply(lambda x: \" \".join(str(x).lower() for x in x))\n",
    "\n",
    "# # Remove stopwords\n",
    "# stop = stopwords.words('english')\n",
    "# News_Data['text'] = News_Data['text'].apply(lambda x: \" \".join(x for x in x.split() if x not in stop))\n",
    "\n",
    "# # Apply stemming\n",
    "# st = PorterStemmer()\n",
    "# News_Data['text'] = News_Data['text'].apply(lambda x: \" \".join([st.stem(word) for word in x.split()]))"
   ]
  },
  {
   "cell_type": "code",
   "execution_count": 235,
   "id": "b1333cf6-8e11-49b8-937b-bab7cbd634d3",
   "metadata": {},
   "outputs": [
    {
     "data": {
      "text/html": [
       "<div>\n",
       "<style scoped>\n",
       "    .dataframe tbody tr th:only-of-type {\n",
       "        vertical-align: middle;\n",
       "    }\n",
       "\n",
       "    .dataframe tbody tr th {\n",
       "        vertical-align: top;\n",
       "    }\n",
       "\n",
       "    .dataframe thead th {\n",
       "        text-align: right;\n",
       "    }\n",
       "</style>\n",
       "<table border=\"1\" class=\"dataframe\">\n",
       "  <thead>\n",
       "    <tr style=\"text-align: right;\">\n",
       "      <th></th>\n",
       "      <th>Unnamed: 0</th>\n",
       "      <th>title</th>\n",
       "      <th>text</th>\n",
       "      <th>label</th>\n",
       "    </tr>\n",
       "  </thead>\n",
       "  <tbody>\n",
       "    <tr>\n",
       "      <th>0</th>\n",
       "      <td>8476</td>\n",
       "      <td>You Can Smell Hillary’s Fear</td>\n",
       "      <td>[Daniel Greenfield, a Shillman Journalism Fell...</td>\n",
       "      <td>FAKE</td>\n",
       "    </tr>\n",
       "    <tr>\n",
       "      <th>1</th>\n",
       "      <td>10294</td>\n",
       "      <td>Watch The Exact Moment Paul Ryan Committed Pol...</td>\n",
       "      <td>[Google Pinterest Digg Linkedin Reddit Stumble...</td>\n",
       "      <td>FAKE</td>\n",
       "    </tr>\n",
       "    <tr>\n",
       "      <th>2</th>\n",
       "      <td>3608</td>\n",
       "      <td>Kerry to go to Paris in gesture of sympathy</td>\n",
       "      <td>[U.S. Secretary of State John F. Kerry said Mo...</td>\n",
       "      <td>REAL</td>\n",
       "    </tr>\n",
       "    <tr>\n",
       "      <th>3</th>\n",
       "      <td>10142</td>\n",
       "      <td>Bernie supporters on Twitter erupt in anger ag...</td>\n",
       "      <td>[— Kaydee King (@KaydeeKing) November 9, 2016 ...</td>\n",
       "      <td>FAKE</td>\n",
       "    </tr>\n",
       "    <tr>\n",
       "      <th>4</th>\n",
       "      <td>875</td>\n",
       "      <td>The Battle of New York: Why This Primary Matters</td>\n",
       "      <td>[It's primary day in New York and front-runner...</td>\n",
       "      <td>REAL</td>\n",
       "    </tr>\n",
       "  </tbody>\n",
       "</table>\n",
       "</div>"
      ],
      "text/plain": [
       "   Unnamed: 0                                              title  \\\n",
       "0        8476                       You Can Smell Hillary’s Fear   \n",
       "1       10294  Watch The Exact Moment Paul Ryan Committed Pol...   \n",
       "2        3608        Kerry to go to Paris in gesture of sympathy   \n",
       "3       10142  Bernie supporters on Twitter erupt in anger ag...   \n",
       "4         875   The Battle of New York: Why This Primary Matters   \n",
       "\n",
       "                                                text label  \n",
       "0  [Daniel Greenfield, a Shillman Journalism Fell...  FAKE  \n",
       "1  [Google Pinterest Digg Linkedin Reddit Stumble...  FAKE  \n",
       "2  [U.S. Secretary of State John F. Kerry said Mo...  REAL  \n",
       "3  [— Kaydee King (@KaydeeKing) November 9, 2016 ...  FAKE  \n",
       "4  [It's primary day in New York and front-runner...  REAL  "
      ]
     },
     "execution_count": 235,
     "metadata": {},
     "output_type": "execute_result"
    }
   ],
   "source": [
    "News_Data.head()"
   ]
  },
  {
   "cell_type": "code",
   "execution_count": null,
   "id": "558834d8-2fdf-46bd-8c84-2737904a6f47",
   "metadata": {},
   "outputs": [],
   "source": []
  },
  {
   "cell_type": "code",
   "execution_count": 236,
   "id": "6c7afc22-9a90-46bb-93e2-acec34099ac5",
   "metadata": {},
   "outputs": [
    {
     "name": "stdout",
     "output_type": "stream",
     "text": [
      "['CEDAR RAPIDS, Iowa — “I had one of the most wonderful rallies of my entire career right here in 1992,” Bill Clinton said by way of opening to the crowd of more than 1,100 on Saturday night.', 'Two days before the Iowa caucuses, Cedar Rapids tried to deliver that same old feeling to his wife, Hillary Clinton.', 'In the crowd,\\xa0one woman held a sign that said “227 years of men.', 'It’s HER turn!\"', 'Some carried signs and books.', 'Others had traveled from as far as Missouri.', 'They had waited hours, even after the fire marshal told them there was no more room inside the high school gymnasium.', 'The restive crowd chanted slogans and buzzed with anticipation until finally Bill, Hillary and Chelsea Clinton all appeared on stage hand-in-hand, an hour behind schedule.', 'As they roared, Hillary Clinton beamed.', 'It has been a long slog in Iowa for the Clinton campaign, which has struggled mightily to shake the label that its supporters can’t muster the enthusiasm of its rival’s backers.', 'As the caucuses near, and with the help of a former president, the energy level\\xa0at her events are notably dialing up.', '\"He\\'s a charismatic speaker,\" said Cigi Ross, 31.', '\"In general, I\\'d say he\\'s a bigger draw for people.\"', \"Monday night will put the campaign's months of their work to the test.\", 'Can the campaign’s organization bring out their supporters?', 'Can the candidate energize voters?', 'Clinton, who seemed to draw on the higher-than-usual energy, stood at the center of it all and delivered a confident closing statement.', '“What we need is a plan, and a commitment,” Clinton said at the top of her voice.', '“And me, yes, thank you,” Clinton finished.', 'Eight years later, Clinton is in Iowa once again facing what could be a nail-biting conclusion of a hard-fought campaign.', 'Clinton acknowledges that it isn’t just her campaign that has changed since her devastating loss here in her last run, she too has changed — and improved, she told CNN on Saturday.', '\"I think I am a different, and perhaps a better, candidate, so I hope that also shows,\" Clinton said in an interview with the network that morning.', 'Days ago, Iowa seemed to be slipping from her grasp, but campaign aides are feeling more confident now.', 'A slew of positive news, endorsements, and the latest poll from the Des Moines Register and Bloomberg News indicate the bleeding has at least slowed.', 'That poll -- considered the gold standard in Iowa -- gave Clinton a slim lead over her rival Vermont Sen. Bernie Sanders.', 'If Democrats are wary of political dynasties, they didn’t show it.', 'Spotting someone in the audience carrying Chelsea Clinton\\'s book, her father remarked: \"Thank you, young woman, for holding up her book.\"', \"Bill Clinton, who has spent days crisscrossing the state on his wife's behalf, has settled easily into this role as booster-in-chief.\", 'He lays off the policy, leaving that to his wife.', 'He focuses instead on what he knows \"about the job.\"', '“There are certain, almost intangible qualities that determine whether a president succeeds or not,” Clinton said, his voice raspy, even and low.', '\"You need a sticker.', 'A sticker: someone who won’t quit on you.”\\n\\n\"She’s the best at that I’ve ever known,” he added.']\n"
     ]
    }
   ],
   "source": [
    "print(News_Data['text'][10])"
   ]
  },
  {
   "cell_type": "code",
   "execution_count": null,
   "id": "46f221aa-95d9-4a12-adff-2ca848214e9a",
   "metadata": {},
   "outputs": [],
   "source": []
  },
  {
   "cell_type": "code",
   "execution_count": 237,
   "id": "8dcab975-8ea9-465f-84ed-a9b58c10284f",
   "metadata": {},
   "outputs": [
    {
     "data": {
      "text/plain": [
       "array([0.26685313, 0.31714339, 0.24019978, ..., 0.28541904, 0.30106911,\n",
       "       0.22335372])"
      ]
     },
     "execution_count": 237,
     "metadata": {},
     "output_type": "execute_result"
    }
   ],
   "source": [
    "X=News_Data.iloc[:,1:3]\n",
    "Y=News_Data[\"label\"]\n",
    "#print(X[\"title\"])\n",
    "\n",
    "train_x, valid_x, train_y, valid_y = model_selection.train_test_split(X[\"title\"],Y)\n",
    "\n",
    "encoder = preprocessing.LabelEncoder()\n",
    "train_y = encoder.fit_transform(train_y)\n",
    "valid_y = encoder.fit_transform(valid_y)\n",
    "\n",
    "tfidf_vect = TfidfVectorizer()\n",
    "tfidf_vect.fit(X[\"title\"])\n",
    "xtrain_tfidf =  tfidf_vect.transform(train_x)\n",
    "xvalid_tfidf =  tfidf_vect.transform(valid_x)\n",
    "\n",
    "xtrain_tfidf.data\n"
   ]
  },
  {
   "cell_type": "code",
   "execution_count": 238,
   "id": "42bd727b-53f8-4a7d-a54d-24f405b70dd2",
   "metadata": {},
   "outputs": [],
   "source": [
    "from sklearn import model_selection, preprocessing\n",
    "from sklearn.feature_extraction.text import TfidfVectorizer\n",
    "\n",
    "# Flatten lists of lists into single list of strings\n",
    "train_text_flattened = [' '.join(doc) if isinstance(doc, list) else doc for doc in train_x_2]\n",
    "valid_text_flattened = [' '.join(doc) if isinstance(doc, list) else doc for doc in valid_x_2]\n",
    "\n",
    "# Encode labels\n",
    "encoder = preprocessing.LabelEncoder()\n",
    "train_y_encoded = encoder.fit_transform(train_y_2)\n",
    "valid_y_encoded = encoder.fit_transform(valid_y_2)\n",
    "\n",
    "# Initialize TfidfVectorizer and fit on the combined text\n",
    "tfidf_vect = TfidfVectorizer()\n",
    "tfidf_vect.fit(train_text_flattened + valid_text_flattened)  # Fit on both train and validation data\n",
    "\n",
    "# Transform the train and validation data\n",
    "xtrain_tfidf_2 = tfidf_vect.transform(train_text_flattened)\n",
    "xvalid_tfidf_2 = tfidf_vect.transform(valid_text_flattened)\n"
   ]
  },
  {
   "cell_type": "code",
   "execution_count": 239,
   "id": "56e38bc2-0752-4725-a9af-b07f8bd7f2d7",
   "metadata": {},
   "outputs": [],
   "source": [
    "def train_model(classifier, feature_vector_train, label, feature_vector_valid, is_neural_net=False):\n",
    "    # fit the training dataset on the classifier\n",
    "    classifier.fit(feature_vector_train, label)\n",
    "    # predict the labels on validation dataset\n",
    "    predictions = classifier.predict(feature_vector_valid)\n",
    "    return metrics.accuracy_score(predictions, valid_y)"
   ]
  },
  {
   "cell_type": "code",
   "execution_count": 240,
   "id": "db47cb2e-70f0-4c51-a59f-fc0d8e3390b1",
   "metadata": {},
   "outputs": [],
   "source": [
    "from sklearn.linear_model import PassiveAggressiveClassifier"
   ]
  },
  {
   "cell_type": "code",
   "execution_count": 241,
   "id": "84cff0a8-5b0d-48b7-9f3f-d9e63652e422",
   "metadata": {},
   "outputs": [
    {
     "name": "stdout",
     "output_type": "stream",
     "text": [
      "Accuracy:  0.4911616161616162\n"
     ]
    }
   ],
   "source": [
    "accuracy = train_model(PassiveAggressiveClassifier(C=10, random_state=42), xtrain_tfidf_2, train_y_2, xvalid_tfidf_2)\n",
    "print (\"Accuracy: \", accuracy)"
   ]
  },
  {
   "cell_type": "code",
   "execution_count": 242,
   "id": "e9d96131-c82c-4dee-a55e-af7374f85de7",
   "metadata": {},
   "outputs": [
    {
     "name": "stdout",
     "output_type": "stream",
     "text": [
      "Accuracy:  0.48926767676767674\n"
     ]
    }
   ],
   "source": [
    "accuracy = train_model(linear_model.LogisticRegression(), xtrain_tfidf_2, train_y_2, xvalid_tfidf_2)\n",
    "print (\"Accuracy: \", accuracy)"
   ]
  },
  {
   "cell_type": "code",
   "execution_count": 243,
   "id": "6e24a4f0-78e0-4ba8-b794-2180f44f65d8",
   "metadata": {},
   "outputs": [
    {
     "name": "stdout",
     "output_type": "stream",
     "text": [
      "Accuracy:  0.4779040404040404\n"
     ]
    }
   ],
   "source": [
    "# Naive Bayes trainig\n",
    "accuracy = train_model(naive_bayes.MultinomialNB(alpha=0.2), xtrain_tfidf_2, train_y_2, xvalid_tfidf_2)\n",
    "print (\"Accuracy: \", accuracy)\n"
   ]
  },
  {
   "cell_type": "code",
   "execution_count": null,
   "id": "0554d613-7a62-46e0-8574-b5eece39ccec",
   "metadata": {},
   "outputs": [],
   "source": []
  },
  {
   "cell_type": "code",
   "execution_count": null,
   "id": "c5351f5e-e6a7-42bf-a9f4-b25ec83cb7ef",
   "metadata": {},
   "outputs": [],
   "source": []
  },
  {
   "cell_type": "code",
   "execution_count": null,
   "id": "d102c22d-786f-4e35-b834-e0e7a67e889f",
   "metadata": {},
   "outputs": [],
   "source": []
  },
  {
   "cell_type": "code",
   "execution_count": null,
   "id": "7646ef06-746e-4b86-a876-b5a3a02b0e4f",
   "metadata": {},
   "outputs": [],
   "source": []
  }
 ],
 "metadata": {
  "kernelspec": {
   "display_name": "Python 3 (ipykernel)",
   "language": "python",
   "name": "python3"
  },
  "language_info": {
   "codemirror_mode": {
    "name": "ipython",
    "version": 3
   },
   "file_extension": ".py",
   "mimetype": "text/x-python",
   "name": "python",
   "nbconvert_exporter": "python",
   "pygments_lexer": "ipython3",
   "version": "3.11.9"
  }
 },
 "nbformat": 4,
 "nbformat_minor": 5
}
